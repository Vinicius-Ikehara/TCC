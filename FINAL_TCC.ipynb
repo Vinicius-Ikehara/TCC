{
  "cells": [
    {
      "cell_type": "markdown",
      "metadata": {
        "id": "view-in-github",
        "colab_type": "text"
      },
      "source": [
        "<a href=\"https://colab.research.google.com/github/Vinicius-Ikehara/TCC/blob/main/FINAL_TCC.ipynb\" target=\"_parent\"><img src=\"https://colab.research.google.com/assets/colab-badge.svg\" alt=\"Open In Colab\"/></a>"
      ]
    },
    {
      "cell_type": "code",
      "execution_count": null,
      "metadata": {
        "colab": {
          "base_uri": "https://localhost:8080/"
        },
        "id": "235KJKKQwqb4",
        "outputId": "6c4e8521-6328-47bd-de5f-245e342acd27"
      },
      "outputs": [
        {
          "output_type": "stream",
          "name": "stdout",
          "text": [
            "Mounted at /content/drive\n"
          ]
        }
      ],
      "source": [
        "from google.colab import drive\n",
        "drive.mount('/content/drive')"
      ]
    },
    {
      "cell_type": "code",
      "execution_count": null,
      "metadata": {
        "id": "932ypg0ljr6F"
      },
      "outputs": [],
      "source": [
        "import numpy as np\n",
        "import matplotlib.pyplot as plt\n",
        "from google.colab import files\n",
        "import io\n",
        "import pandas as pd\n",
        "from sklearn.metrics import mean_squared_error, mean_absolute_error\n",
        "from sklearn.ensemble import RandomForestRegressor"
      ]
    },
    {
      "cell_type": "code",
      "execution_count": null,
      "metadata": {
        "id": "2WdgMBd2nu1_"
      },
      "outputs": [],
      "source": [
        "from numpy import array\n",
        "import numpy as np\n",
        "import pandas as pd\n",
        "from sklearn.metrics import accuracy_score\n",
        "from google.colab import files\n",
        "import io\n",
        "from keras.models import Sequential\n",
        "from keras.layers import Dense\n",
        "from keras.layers import Flatten\n",
        "from keras.layers.convolutional import Conv1D\n",
        "from keras.layers.convolutional import MaxPooling1D\n",
        "from sklearn.model_selection import train_test_split, cross_val_score\n"
      ]
    },
    {
      "cell_type": "code",
      "source": [
        "np.seterr(divide='ignore', invalid='ignore')"
      ],
      "metadata": {
        "colab": {
          "base_uri": "https://localhost:8080/"
        },
        "id": "h9cyg34aJ9-k",
        "outputId": "ae996aa2-f629-4099-c371-1910167f6ae8"
      },
      "execution_count": null,
      "outputs": [
        {
          "output_type": "execute_result",
          "data": {
            "text/plain": [
              "{'divide': 'warn', 'invalid': 'warn', 'over': 'warn', 'under': 'ignore'}"
            ]
          },
          "metadata": {},
          "execution_count": 4
        }
      ]
    },
    {
      "cell_type": "code",
      "execution_count": null,
      "metadata": {
        "id": "17NgV4rmmZw1"
      },
      "outputs": [],
      "source": [
        "path = \"/content/drive/MyDrive/Colab Notebooks\"\n",
        " \n",
        "df = pd.read_csv(path + '/MULTPL-SP500_PSR_QUARTER.csv')"
      ]
    },
    {
      "cell_type": "code",
      "source": [
        "df.reset_index(inplace = True)"
      ],
      "metadata": {
        "id": "nk-MSGnYLP3a"
      },
      "execution_count": null,
      "outputs": []
    },
    {
      "cell_type": "code",
      "source": [
        "df.shape"
      ],
      "metadata": {
        "colab": {
          "base_uri": "https://localhost:8080/"
        },
        "id": "ifr7qimQLRYF",
        "outputId": "98c0214b-c13d-4187-f2e6-b41120f2d84b"
      },
      "execution_count": null,
      "outputs": [
        {
          "output_type": "execute_result",
          "data": {
            "text/plain": [
              "(118, 3)"
            ]
          },
          "metadata": {},
          "execution_count": 7
        }
      ]
    },
    {
      "cell_type": "code",
      "source": [
        "df = df.sort_values('Date')"
      ],
      "metadata": {
        "id": "HLopwWmkAWTj"
      },
      "execution_count": null,
      "outputs": []
    },
    {
      "cell_type": "code",
      "source": [
        "data = df"
      ],
      "metadata": {
        "id": "l0Tus_GrLWRV"
      },
      "execution_count": null,
      "outputs": []
    },
    {
      "cell_type": "code",
      "source": [
        "df = df.loc[:, df.columns!='Date']"
      ],
      "metadata": {
        "id": "PWhxDqIuDb8-"
      },
      "execution_count": null,
      "outputs": []
    },
    {
      "cell_type": "code",
      "execution_count": null,
      "metadata": {
        "id": "YeagVgznRgdV"
      },
      "outputs": [],
      "source": [
        "#Dividir uma sequencia não variada em pequenas samples\n",
        "def split_sequence(sequence, steps):\n",
        "  X, y = list(), list()\n",
        "  for start in range(len(sequence)):\n",
        "    end_index = start + steps #define o index final da sequencia\n",
        "    if end_index > len(sequence)-1: #checa se o index final está dentro da sequencia\n",
        "      break\n",
        "    sequence_x, sequence_y = sequence[start: end_index], sequence[end_index] #extract input and output parts of the sequence\n",
        "    X.append(sequence_x)\n",
        "    y.append(sequence_y)\n",
        "  return array(X), array(y)"
      ]
    },
    {
      "cell_type": "code",
      "source": [
        "def calc_acuracia(val1, val2):\n",
        "  resultado = (val1/val2)\n",
        "  resultado = resultado*100\n",
        "  return resultado"
      ],
      "metadata": {
        "id": "pGlj37bokMl_"
      },
      "execution_count": null,
      "outputs": []
    },
    {
      "cell_type": "code",
      "source": [
        "del df['index']\n",
        "valores_reais = np.array(df)"
      ],
      "metadata": {
        "id": "VVFsu1SVUY4k"
      },
      "execution_count": null,
      "outputs": []
    },
    {
      "cell_type": "code",
      "source": [
        "input_dimension = 20\n",
        "#input_dimension = 60\n",
        "#input_dimension = 100\n",
        "\n",
        "op = 'Adam'\n",
        "#op = 'SGD'\n",
        "\n",
        "n_epochs = 6000\n",
        "#n_epochs = 8000\n",
        "#n_epochs = 10000"
      ],
      "metadata": {
        "id": "9E--SbF-izjF"
      },
      "execution_count": null,
      "outputs": []
    },
    {
      "cell_type": "code",
      "source": [
        "steps = 3\n",
        "\n",
        "#split into samples\n",
        "X,y = split_sequence(valores_reais, steps)\n",
        "\n",
        "features = 1\n",
        "X = X.reshape((X.shape[0], X.shape[1], features))\n",
        "\n",
        "X_train, X_test, y_train, y_test = train_test_split(X, y, test_size=0.2, random_state=42)\n",
        "\n",
        "model = Sequential()\n",
        "model.add(Conv1D(filters=64, kernel_size=2, activation='relu', input_shape=(steps, features)))\n",
        "model.add(MaxPooling1D(pool_size=2))\n",
        "model.add(Flatten())\n",
        "model.add(Dense(input_dimension, activation='relu'))\n",
        "model.add(Dense(input_dimension/2, activation='relu'))\n",
        "model.add(Dense(1))\n",
        "model.compile(optimizer= op,loss='mse')\n",
        "model.fit(X,y, epochs=n_epochs, verbose=0)"
      ],
      "metadata": {
        "colab": {
          "base_uri": "https://localhost:8080/"
        },
        "id": "yAHDFojHPxq9",
        "outputId": "181c9b22-73e8-40e8-ab43-78990eadec46"
      },
      "execution_count": null,
      "outputs": [
        {
          "output_type": "execute_result",
          "data": {
            "text/plain": [
              "<keras.callbacks.History at 0x7f403b535d50>"
            ]
          },
          "metadata": {},
          "execution_count": 15
        }
      ]
    },
    {
      "cell_type": "code",
      "execution_count": null,
      "metadata": {
        "id": "CaB3V28eEmu7"
      },
      "outputs": [],
      "source": [
        "posicao = 0\n",
        "valor_predito = 0\n",
        "valor_verdadeiro = 0\n",
        "acuracia = []\n",
        "predicoes = []\n",
        "mse = []\n",
        "mae = []"
      ]
    },
    {
      "cell_type": "code",
      "source": [
        "def avaliar_modelo(valor_verdadeiro, pred):\n",
        "    mse.append(mean_squared_error(valor_verdadeiro, pred))\n",
        "    mae.append(mean_absolute_error(valor_verdadeiro, pred))\n",
        "    acuracia.append(calc_acuracia(valor_verdadeiro, pred))\n",
        "    predicoes.append(round(float(pred), 2))"
      ],
      "metadata": {
        "id": "JCbMwfyfk08I"
      },
      "execution_count": null,
      "outputs": []
    },
    {
      "cell_type": "code",
      "source": [
        "def teste_prever_valores(values, valores_reais,valor_predito, valor_verdadeiro,posicao):\n",
        "    posicao = len(values)-1\n",
        "    x_input = array([valores_reais[posicao-3], valores_reais[posicao-2],valores_reais[posicao-1]])\n",
        "    x_input = x_input.reshape((1, steps, features))\n",
        "    y_pred = model.predict(x_input, verbose=0)\n",
        "    valor_verdadeiro = valores_reais[posicao]\n",
        "    avaliar_modelo(valor_verdadeiro, y_pred)\n",
        "    valor_predito = round(float(y_pred), 2)\n",
        "    values = np.vstack([values,valor_predito])\n",
        "    return values"
      ],
      "metadata": {
        "id": "-lImtQyJJc76"
      },
      "execution_count": null,
      "outputs": []
    },
    {
      "cell_type": "code",
      "source": [
        "def prever_valores(values,valor_predito, valor_verdadeiro,posicao):\n",
        "    posicao = len(values)-1\n",
        "    x_input = array([values[posicao-3], values[posicao-2],values[posicao-1]])\n",
        "    x_input = x_input.reshape((1, steps, features))\n",
        "    y_pred = model.predict(x_input, verbose=0)\n",
        "    valor_verdadeiro = values[posicao]\n",
        "    avaliar_modelo(valor_verdadeiro, y_pred)\n",
        "    valor_predito = round(float(y_pred), 2)\n",
        "    values = np.vstack([values,valor_predito])\n",
        "    return values"
      ],
      "metadata": {
        "id": "dXqWuGolIUbO"
      },
      "execution_count": null,
      "outputs": []
    },
    {
      "cell_type": "code",
      "source": [
        "title = (\"Modelo Duas Camadas( Camada 1:\" + str(input_dimension) + \" Camada 2: \" + str(int(input_dimension/2)) + \"), Optimizador: \" + op + \", Epochs: \" + str(n_epochs))"
      ],
      "metadata": {
        "id": "gtLW_uYbkXDD"
      },
      "execution_count": null,
      "outputs": []
    },
    {
      "cell_type": "code",
      "source": [
        "def mostrar_avaliacao(mse, mae, acuracia):\n",
        "    print(title)\n",
        "    print(\"Maior valor da MAE:\" ,max(mae), \"\\nMédia da MAE: \", np.mean(mae))\n",
        "    print(\"Maior valor da MSE:\" ,max(mse), \"\\nMédia da MSE: \", np.mean(mse))\n",
        "    print(\"Menores valores de Acurácia:\" ,min(acuracia), max(acuracia))"
      ],
      "metadata": {
        "id": "hwHD4QnTjya8"
      },
      "execution_count": null,
      "outputs": []
    },
    {
      "cell_type": "code",
      "source": [
        "predicao = valores_reais"
      ],
      "metadata": {
        "id": "92S1BPSyZCje"
      },
      "execution_count": null,
      "outputs": []
    },
    {
      "cell_type": "code",
      "source": [
        "n = 5"
      ],
      "metadata": {
        "id": "GhxCIe7BkYrh"
      },
      "execution_count": null,
      "outputs": []
    },
    {
      "cell_type": "code",
      "source": [
        "i = 0\n",
        "while i < n:\n",
        "  predicao = prever_valores(predicao, valor_predito, valor_verdadeiro, posicao)\n",
        "  i += 1"
      ],
      "metadata": {
        "id": "j6I_nA8zI6ek"
      },
      "execution_count": null,
      "outputs": []
    },
    {
      "cell_type": "code",
      "source": [
        "n = len(valores_reais) -3 "
      ],
      "metadata": {
        "id": "jTqqLHNrGosf"
      },
      "execution_count": null,
      "outputs": []
    },
    {
      "cell_type": "code",
      "source": [
        "teste_cego = df.iloc[:len(valores_reais)-n]\n",
        "teste_cego = np.array(teste_cego)"
      ],
      "metadata": {
        "id": "ucFDQUqfGE_D"
      },
      "execution_count": null,
      "outputs": []
    },
    {
      "cell_type": "code",
      "source": [
        "i = 0\n",
        "while i < n:\n",
        "  teste_cego = teste_prever_valores(teste_cego, valores_reais, valor_predito, valor_verdadeiro, posicao)\n",
        "  i += 1\n",
        "  if(i==n):\n",
        "    mostrar_avaliacao(mse,mae,acuracia)"
      ],
      "metadata": {
        "id": "Bbpc3Gu2GDnJ",
        "colab": {
          "base_uri": "https://localhost:8080/"
        },
        "outputId": "f4fa8afc-8692-4c38-d5ef-4a6c8f73b14e"
      },
      "execution_count": null,
      "outputs": [
        {
          "output_type": "stream",
          "name": "stdout",
          "text": [
            "Modelo Duas Camadas( Camada 1:20 Camada 2: 10), Optimizador: Adam, Epochs: 6000\n",
            "Maior valor da MAE: 0.3683411312103271 \n",
            "Média da MAE:  0.08005442885557809\n",
            "Maior valor da MSE: 0.1356751889413034 \n",
            "Média da MSE:  0.010709999357787629\n",
            "Menores valores de Acurácia: [[82.95490762]] [[116.13030844]]\n"
          ]
        }
      ]
    },
    {
      "cell_type": "code",
      "source": [
        "i = 0\n",
        "n=5\n",
        "while i < n:\n",
        "  teste_cego = prever_valores(teste_cego, valor_predito, valor_verdadeiro, posicao)\n",
        "  i += 1"
      ],
      "metadata": {
        "id": "SzdqeAkuZuIa"
      },
      "execution_count": null,
      "outputs": []
    },
    {
      "cell_type": "code",
      "source": [
        "import matplotlib.pyplot as plt\n",
        "# plotting the line 1 points \n",
        "plt.figure(figsize=(10,5))\n",
        "plt.plot(predicao, label = \"Predição\", c='r')\n",
        "plt.plot(teste_cego, label = \"Teste + Predicao\", c='c')\n",
        "plt.plot(valores_reais, label = \"Valores Reais\", c='g')\n",
        "plt.axvline(x=len(valores_reais)-11, c='y', linestyle='--')\n",
        "plt.axvline(x=len(valores_reais)-6, c='r', linestyle='--')\n",
        "plt.axvline(x=len(valores_reais)-1, c='r', linestyle='--')\n",
        "plt.xlabel('Amostras')\n",
        "# Set the y axis label of the current axis.\n",
        "plt.ylabel('Preço')\n",
        "# Set a title of the current axes.\n",
        "plt.title(title)\n",
        "# show a legend on the plot\n",
        "plt.legend()\n",
        "# Display a figure.\n",
        "plt.show()"
      ],
      "metadata": {
        "id": "5rn9hItbG15V",
        "colab": {
          "base_uri": "https://localhost:8080/",
          "height": 350
        },
        "outputId": "01decb42-7796-4172-b585-589e8b13bfcc"
      },
      "execution_count": null,
      "outputs": [
        {
          "output_type": "display_data",
          "data": {
            "text/plain": [
              "<Figure size 720x360 with 1 Axes>"
            ],
            "image/png": "[encoded data removed]"
          },
          "metadata": {
            "needs_background": "light"
          }
        }
      ]
    }
  ],
  "metadata": {
    "colab": {
      "collapsed_sections": [],
      "provenance": [],
      "authorship_tag": "ABX9TyPJzbhad/ezZLS6XOqUz01H",
      "include_colab_link": true
    },
    "kernelspec": {
      "display_name": "Python 3",
      "name": "python3"
    },
    "language_info": {
      "name": "python"
    }
  },
  "nbformat": 4,
  "nbformat_minor": 0
}